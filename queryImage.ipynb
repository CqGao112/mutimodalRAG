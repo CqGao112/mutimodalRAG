{
 "cells": [
  {
   "cell_type": "code",
   "execution_count": null,
   "outputs": [],
   "source": [
    "import torch\n",
    "import chromadb\n",
    "from chromadb.utils.embedding_functions import OpenCLIPEmbeddingFunction\n",
    "from chromadb.utils.data_loaders import ImageLoader\n",
    "from IPython.display import Image, display, Markdown"
   ],
   "metadata": {
    "collapsed": false,
    "pycharm": {
     "is_executing": true
    }
   }
  },
  {
   "cell_type": "code",
   "execution_count": null,
   "outputs": [],
   "source": [
    "# Instantiate the ChromaDB CLient\n",
    "chroma_client = chromadb.PersistentClient(path='/mnt/d/myProjects/datasets/multimodal_vdb/fashionpedia')\n",
    "# Instantiate the ChromaDB Image Loader\n",
    "image_loader = ImageLoader()\n",
    "# Instantiate CLIP embeddings\n",
    "device = torch.device(\"cuda\" if torch.cuda.is_available() else \"cpu\")\n",
    "CLIP = OpenCLIPEmbeddingFunction(checkpoint= \"/mnt/d/myProjects/datasets/fashionpedia/open_clip_pytorch_model.bin\",device=device)\n",
    "# Create the image vector database\n",
    "image_vdb = chroma_client.get_or_create_collection(name=\"image\", embedding_function = CLIP, data_loader = image_loader)"
   ],
   "metadata": {
    "collapsed": false
   }
  },
  {
   "cell_type": "code",
   "execution_count": null,
   "outputs": [],
   "source": [
    "# Define query_db function\n",
    "def query_db(query, results=2):\n",
    "    results = image_vdb.query(\n",
    "        query_texts=[query],\n",
    "        n_results=results,\n",
    "        include=['uris', 'distances'])\n",
    "    return results\n",
    "\n",
    "# Define print_results function\n",
    "def print_results(results):\n",
    "    for idx, uri in enumerate(results['uris'][0]):\n",
    "        print(f\"ID: {results['ids'][0][idx]}\")\n",
    "        print(f\"Distance: {results['distances'][0][idx]}\")\n",
    "        print(f\"Path: {uri}\")\n",
    "        display(Image(filename=uri, width=300))\n",
    "        print(\"\\n\")\n",
    "\n",
    "# Demonstrate functions\n",
    "query = '白裤子'\n",
    "results = query_db(query)\n",
    "print_results(results)"
   ],
   "metadata": {
    "collapsed": false
   }
  }
 ],
 "metadata": {
  "kernelspec": {
   "display_name": "Python 3",
   "language": "python",
   "name": "python3"
  },
  "language_info": {
   "codemirror_mode": {
    "name": "ipython",
    "version": 2
   },
   "file_extension": ".py",
   "mimetype": "text/x-python",
   "name": "python",
   "nbconvert_exporter": "python",
   "pygments_lexer": "ipython2",
   "version": "2.7.6"
  }
 },
 "nbformat": 4,
 "nbformat_minor": 0
}
